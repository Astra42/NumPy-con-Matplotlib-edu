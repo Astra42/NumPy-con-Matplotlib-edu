{
  "nbformat": 4,
  "nbformat_minor": 0,
  "metadata": {
    "colab": {
      "provenance": [],
      "authorship_tag": "ABX9TyPG/8p9t670JGFWMKs9VNBF",
      "include_colab_link": true
    },
    "kernelspec": {
      "name": "python3",
      "display_name": "Python 3"
    },
    "language_info": {
      "name": "python"
    }
  },
  "cells": [
    {
      "cell_type": "markdown",
      "metadata": {
        "id": "view-in-github",
        "colab_type": "text"
      },
      "source": [
        "<a href=\"https://colab.research.google.com/github/Astra42/NumPy-con-Matplotlib-edu/blob/main/2edu_NumPy_ipynb.ipynb\" target=\"_parent\"><img src=\"https://colab.research.google.com/assets/colab-badge.svg\" alt=\"Open In Colab\"/></a>"
      ]
    },
    {
      "cell_type": "markdown",
      "source": [
        "## 4 Свойства и представления массивов, создание их копий "
      ],
      "metadata": {
        "id": "-sC4m6uVMC7q"
      }
    },
    {
      "cell_type": "code",
      "execution_count": 41,
      "metadata": {
        "id": "RtILFvhMMA2V"
      },
      "outputs": [],
      "source": [
        "import numpy as np"
      ]
    },
    {
      "cell_type": "code",
      "source": [
        "a = np.array([0.1, 0.2, 0.3, 0.4])\n",
        "a.dtype"
      ],
      "metadata": {
        "colab": {
          "base_uri": "https://localhost:8080/"
        },
        "id": "3RRPD7kRP3mH",
        "outputId": "1c05d27b-ae68-41c1-e34a-2d3c31c4b686"
      },
      "execution_count": 3,
      "outputs": [
        {
          "output_type": "execute_result",
          "data": {
            "text/plain": [
              "dtype('float64')"
            ]
          },
          "metadata": {},
          "execution_count": 3
        }
      ]
    },
    {
      "cell_type": "code",
      "source": [
        "a.dtype = 'int8'#или np.int8 "
      ],
      "metadata": {
        "id": "hSee16a4P3iq"
      },
      "execution_count": 4,
      "outputs": []
    },
    {
      "cell_type": "code",
      "source": [
        "a"
      ],
      "metadata": {
        "colab": {
          "base_uri": "https://localhost:8080/"
        },
        "id": "cBKcF4BwP3gJ",
        "outputId": "271ef93d-2ebb-4ad1-bff5-f77296b08062"
      },
      "execution_count": 5,
      "outputs": [
        {
          "output_type": "execute_result",
          "data": {
            "text/plain": [
              "array([-102, -103, -103, -103, -103, -103,  -71,   63, -102, -103, -103,\n",
              "       -103, -103, -103,  -55,   63,   51,   51,   51,   51,   51,   51,\n",
              "        -45,   63, -102, -103, -103, -103, -103, -103,  -39,   63],\n",
              "      dtype=int8)"
            ]
          },
          "metadata": {},
          "execution_count": 5
        }
      ]
    },
    {
      "cell_type": "code",
      "source": [
        "a.size"
      ],
      "metadata": {
        "colab": {
          "base_uri": "https://localhost:8080/"
        },
        "id": "d1haf066P3YC",
        "outputId": "dfac9ff9-a839-4642-ad26-a14d2ba8f13c"
      },
      "execution_count": 6,
      "outputs": [
        {
          "output_type": "execute_result",
          "data": {
            "text/plain": [
              "32"
            ]
          },
          "metadata": {},
          "execution_count": 6
        }
      ]
    },
    {
      "cell_type": "markdown",
      "source": [
        "каждый элемент, занимавший 8 байт стал представляться 1 байтом\n",
        "\n",
        "и в итоге количество чисел увеличилось в 8 раз"
      ],
      "metadata": {
        "id": "SLmfm4LpQvVW"
      }
    },
    {
      "cell_type": "code",
      "source": [
        "a.dtype = np.float32\n",
        "a.size"
      ],
      "metadata": {
        "colab": {
          "base_uri": "https://localhost:8080/"
        },
        "id": "P_HPZ3sJRCex",
        "outputId": "bb621df9-28c8-4f80-842f-627a7d13c44e"
      },
      "execution_count": 7,
      "outputs": [
        {
          "output_type": "execute_result",
          "data": {
            "text/plain": [
              "8"
            ]
          },
          "metadata": {},
          "execution_count": 7
        }
      ]
    },
    {
      "cell_type": "code",
      "source": [
        "a.itemsize#сколько байт на один элемень в памяти"
      ],
      "metadata": {
        "colab": {
          "base_uri": "https://localhost:8080/"
        },
        "id": "rAKb-hqtQqkR",
        "outputId": "fb5264a0-7be6-4d04-cd24-02ea1cb1cd0a"
      },
      "execution_count": 8,
      "outputs": [
        {
          "output_type": "execute_result",
          "data": {
            "text/plain": [
              "4"
            ]
          },
          "metadata": {},
          "execution_count": 8
        }
      ]
    },
    {
      "cell_type": "code",
      "source": [
        "#размер всего массива в байт\n",
        "a.size*a.itemsize"
      ],
      "metadata": {
        "colab": {
          "base_uri": "https://localhost:8080/"
        },
        "id": "Ze7Aele0RNoS",
        "outputId": "0adc611a-2dee-4831-81c7-e7c4ea144476"
      },
      "execution_count": 9,
      "outputs": [
        {
          "output_type": "execute_result",
          "data": {
            "text/plain": [
              "32"
            ]
          },
          "metadata": {},
          "execution_count": 9
        }
      ]
    },
    {
      "cell_type": "code",
      "source": [
        "a = np.ones((3,4,5))\n",
        "a.ndim #количество осей"
      ],
      "metadata": {
        "colab": {
          "base_uri": "https://localhost:8080/"
        },
        "id": "r9fGi5e0ReQs",
        "outputId": "778d36b0-d1ae-439c-da4d-5ffdf29ca7bc"
      },
      "execution_count": 13,
      "outputs": [
        {
          "output_type": "execute_result",
          "data": {
            "text/plain": [
              "3"
            ]
          },
          "metadata": {},
          "execution_count": 13
        }
      ]
    },
    {
      "cell_type": "code",
      "source": [
        "a.shape#количество элементов на каждой оси"
      ],
      "metadata": {
        "colab": {
          "base_uri": "https://localhost:8080/"
        },
        "id": "BW3YClPrRi2n",
        "outputId": "71ee3a85-e451-4daf-ce5e-0e87480b6851"
      },
      "execution_count": 14,
      "outputs": [
        {
          "output_type": "execute_result",
          "data": {
            "text/plain": [
              "(3, 4, 5)"
            ]
          },
          "metadata": {},
          "execution_count": 14
        }
      ]
    },
    {
      "cell_type": "code",
      "source": [
        "a.shape = 3, 20 "
      ],
      "metadata": {
        "id": "vZCHqJLTRizB"
      },
      "execution_count": 15,
      "outputs": []
    },
    {
      "cell_type": "code",
      "source": [
        "a"
      ],
      "metadata": {
        "colab": {
          "base_uri": "https://localhost:8080/"
        },
        "id": "EMlE5EtVRiw5",
        "outputId": "5869d790-de44-473c-8289-3913a1fa1689"
      },
      "execution_count": 16,
      "outputs": [
        {
          "output_type": "execute_result",
          "data": {
            "text/plain": [
              "array([[1., 1., 1., 1., 1., 1., 1., 1., 1., 1., 1., 1., 1., 1., 1., 1.,\n",
              "        1., 1., 1., 1.],\n",
              "       [1., 1., 1., 1., 1., 1., 1., 1., 1., 1., 1., 1., 1., 1., 1., 1.,\n",
              "        1., 1., 1., 1.],\n",
              "       [1., 1., 1., 1., 1., 1., 1., 1., 1., 1., 1., 1., 1., 1., 1., 1.,\n",
              "        1., 1., 1., 1.]])"
            ]
          },
          "metadata": {},
          "execution_count": 16
        }
      ]
    },
    {
      "cell_type": "markdown",
      "source": [
        "![image.png](data:image/png;base64,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)"
      ],
      "metadata": {
        "id": "76z8w9QySI9t"
      }
    },
    {
      "cell_type": "markdown",
      "source": [
        "В NumPy разделяются понятия **данные** и **представления**"
      ],
      "metadata": {
        "id": "JP4KyevdVmii"
      }
    },
    {
      "cell_type": "markdown",
      "source": [
        "![image.png](data:image/png;base64,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)"
      ],
      "metadata": {
        "id": "l109DlBOSd4s"
      }
    },
    {
      "cell_type": "code",
      "source": [
        "a = np.ones((2, 4))\n",
        "b = a.reshape(1, 8)\n",
        "\n",
        "a[0,0]=99\n",
        "a"
      ],
      "metadata": {
        "colab": {
          "base_uri": "https://localhost:8080/"
        },
        "id": "ds9vQGDYR-Hf",
        "outputId": "9a3782e5-c75a-4dc2-f7ce-e8788318732d"
      },
      "execution_count": 18,
      "outputs": [
        {
          "output_type": "execute_result",
          "data": {
            "text/plain": [
              "array([[99.,  1.,  1.,  1.],\n",
              "       [ 1.,  1.,  1.,  1.]])"
            ]
          },
          "metadata": {},
          "execution_count": 18
        }
      ]
    },
    {
      "cell_type": "code",
      "source": [
        "b"
      ],
      "metadata": {
        "colab": {
          "base_uri": "https://localhost:8080/"
        },
        "id": "N2Mb2I5uSzYB",
        "outputId": "79b20dcb-bb94-4dce-d3ce-2916a4ffc5f1"
      },
      "execution_count": 19,
      "outputs": [
        {
          "output_type": "execute_result",
          "data": {
            "text/plain": [
              "array([[99.,  1.,  1.,  1.,  1.,  1.,  1.,  1.]])"
            ]
          },
          "metadata": {},
          "execution_count": 19
        }
      ]
    },
    {
      "cell_type": "code",
      "source": [
        "id(b), id(a)"
      ],
      "metadata": {
        "colab": {
          "base_uri": "https://localhost:8080/"
        },
        "id": "x7hkR_ktS2yp",
        "outputId": "6aa60a8f-e206-42b9-bcb4-f656cddb060e"
      },
      "execution_count": 20,
      "outputs": [
        {
          "output_type": "execute_result",
          "data": {
            "text/plain": [
              "(139825466448944, 139825466222032)"
            ]
          },
          "metadata": {},
          "execution_count": 20
        }
      ]
    },
    {
      "cell_type": "markdown",
      "source": [
        "reshape - не единственный случай создания нового представления"
      ],
      "metadata": {
        "id": "YqvaSTa1V4VP"
      }
    },
    {
      "cell_type": "code",
      "source": [
        "t = a.T\n",
        "t"
      ],
      "metadata": {
        "colab": {
          "base_uri": "https://localhost:8080/"
        },
        "id": "VtjHeD0XVOgo",
        "outputId": "d864a308-aa9c-45ea-a2b3-8bf4961089c3"
      },
      "execution_count": 23,
      "outputs": [
        {
          "output_type": "execute_result",
          "data": {
            "text/plain": [
              "array([[99.,  1.],\n",
              "       [ 1.,  1.],\n",
              "       [ 1.,  1.],\n",
              "       [ 1.,  1.]])"
            ]
          },
          "metadata": {},
          "execution_count": 23
        }
      ]
    },
    {
      "cell_type": "markdown",
      "source": [
        "любое изменение формы, как правило, ведёт к созданию *представления*"
      ],
      "metadata": {
        "id": "ORD7_zmzWaDc"
      }
    },
    {
      "cell_type": "markdown",
      "source": [
        "метод view() - возвращает копию\n",
        " представления\n"
      ],
      "metadata": {
        "id": "0vMr20vlWzO4"
      }
    },
    {
      "cell_type": "code",
      "source": [
        "a = np.array([1,2,3,4,5,6,7,8])\n",
        "b = a\n"
      ],
      "metadata": {
        "id": "Lul0fRp5WBH2"
      },
      "execution_count": 24,
      "outputs": []
    },
    {
      "cell_type": "code",
      "source": [
        "a.shape = 2, 4\n",
        "b"
      ],
      "metadata": {
        "colab": {
          "base_uri": "https://localhost:8080/"
        },
        "id": "Ac-8L6XRXdcO",
        "outputId": "1a86f47c-e8b2-4638-b249-806a12614690"
      },
      "execution_count": 26,
      "outputs": [
        {
          "output_type": "execute_result",
          "data": {
            "text/plain": [
              "array([[1, 2, 3, 4],\n",
              "       [5, 6, 7, 8]])"
            ]
          },
          "metadata": {},
          "execution_count": 26
        }
      ]
    },
    {
      "cell_type": "markdown",
      "source": [
        "решение здесь будет - создание копии представления"
      ],
      "metadata": {
        "id": "1VLlNz6JZGux"
      }
    },
    {
      "cell_type": "code",
      "source": [
        "a = np.array([1,2,3,4,5,6,7,8])\n",
        "b = a.view()"
      ],
      "metadata": {
        "id": "lGvGZtcKXhEM"
      },
      "execution_count": 27,
      "outputs": []
    },
    {
      "cell_type": "code",
      "source": [
        "a.shape = (2,4)#защита от случайных изменений\n",
        "b"
      ],
      "metadata": {
        "colab": {
          "base_uri": "https://localhost:8080/"
        },
        "id": "_EMFSK0IY9qZ",
        "outputId": "d0ac8525-f0a7-42ca-d75b-4d89c02d7675"
      },
      "execution_count": 30,
      "outputs": [
        {
          "output_type": "execute_result",
          "data": {
            "text/plain": [
              "array([1, 2, 3, 4, 5, 6, 7, 8])"
            ]
          },
          "metadata": {},
          "execution_count": 30
        }
      ]
    },
    {
      "cell_type": "markdown",
      "source": [
        "А если нужно сделать копию данных?"
      ],
      "metadata": {
        "id": "nrWhQ8zEZMdm"
      }
    },
    {
      "cell_type": "code",
      "source": [
        "a = np.array([1,2,3,4,5,6,7,8])\n",
        "b = np.array(a)#создание копии или b = a.copy()"
      ],
      "metadata": {
        "id": "jXF6TI0FZAh9"
      },
      "execution_count": 31,
      "outputs": []
    },
    {
      "cell_type": "code",
      "source": [
        "b[0]=99\n",
        "a"
      ],
      "metadata": {
        "colab": {
          "base_uri": "https://localhost:8080/"
        },
        "id": "QJmz0GNMZoj2",
        "outputId": "9ab73538-6775-4bc4-8494-446e22e2333a"
      },
      "execution_count": 32,
      "outputs": [
        {
          "output_type": "execute_result",
          "data": {
            "text/plain": [
              "array([1, 2, 3, 4, 5, 6, 7, 8])"
            ]
          },
          "metadata": {},
          "execution_count": 32
        }
      ]
    },
    {
      "cell_type": "markdown",
      "source": [
        "## 5 Изменение формы массивов, добавление и удаление осей"
      ],
      "metadata": {
        "id": "3DKMGZVZw7y_"
      }
    },
    {
      "cell_type": "code",
      "source": [
        "a = np.arange(10)\n",
        "a"
      ],
      "metadata": {
        "colab": {
          "base_uri": "https://localhost:8080/"
        },
        "id": "HlxCnG9ZxA9b",
        "outputId": "61fa4808-b1dd-4c2a-862a-5f0fac067a97"
      },
      "execution_count": 5,
      "outputs": [
        {
          "output_type": "execute_result",
          "data": {
            "text/plain": [
              "array([0, 1, 2, 3, 4, 5, 6, 7, 8, 9])"
            ]
          },
          "metadata": {},
          "execution_count": 5
        }
      ]
    },
    {
      "cell_type": "code",
      "source": [
        "a.shape = (2, 5)#первый вариант - изменить явно\n",
        "a"
      ],
      "metadata": {
        "colab": {
          "base_uri": "https://localhost:8080/"
        },
        "id": "GXpEHth4xA5_",
        "outputId": "27e52736-fc74-4599-99c7-344c3d9f23be"
      },
      "execution_count": 6,
      "outputs": [
        {
          "output_type": "execute_result",
          "data": {
            "text/plain": [
              "array([[0, 1, 2, 3, 4],\n",
              "       [5, 6, 7, 8, 9]])"
            ]
          },
          "metadata": {},
          "execution_count": 6
        }
      ]
    },
    {
      "cell_type": "code",
      "source": [
        "b = a.reshape(10)# в b будет лежать новое представление одних и тех же данных\n",
        "a, b"
      ],
      "metadata": {
        "colab": {
          "base_uri": "https://localhost:8080/"
        },
        "id": "k00lSrWpxA27",
        "outputId": "e37a1ca5-3cad-41fb-d19a-f131bc0965d2"
      },
      "execution_count": 9,
      "outputs": [
        {
          "output_type": "execute_result",
          "data": {
            "text/plain": [
              "(array([[0, 1, 2, 3, 4],\n",
              "        [5, 6, 7, 8, 9]]), array([0, 1, 2, 3, 4, 5, 6, 7, 8, 9]))"
            ]
          },
          "metadata": {},
          "execution_count": 9
        }
      ]
    },
    {
      "cell_type": "code",
      "source": [
        "a.shape = 3,4"
      ],
      "metadata": {
        "colab": {
          "base_uri": "https://localhost:8080/",
          "height": 171
        },
        "id": "I7JNx7jawWyl",
        "outputId": "22310579-a568-4d1d-f0da-12c6678175e4"
      },
      "execution_count": 10,
      "outputs": [
        {
          "output_type": "error",
          "ename": "ValueError",
          "evalue": "ignored",
          "traceback": [
            "\u001b[0;31m---------------------------------------------------------------------------\u001b[0m",
            "\u001b[0;31mValueError\u001b[0m                                Traceback (most recent call last)",
            "\u001b[0;32m<ipython-input-10-33209cda2f20>\u001b[0m in \u001b[0;36m<module>\u001b[0;34m\u001b[0m\n\u001b[0;32m----> 1\u001b[0;31m \u001b[0ma\u001b[0m\u001b[0;34m.\u001b[0m\u001b[0mshape\u001b[0m \u001b[0;34m=\u001b[0m \u001b[0;36m3\u001b[0m\u001b[0;34m,\u001b[0m\u001b[0;36m4\u001b[0m\u001b[0;34m\u001b[0m\u001b[0;34m\u001b[0m\u001b[0m\n\u001b[0m",
            "\u001b[0;31mValueError\u001b[0m: cannot reshape array of size 10 into shape (3,4)"
          ]
        }
      ]
    },
    {
      "cell_type": "markdown",
      "source": [
        "Можем использовать отрицательные размерности\n",
        "\n",
        "`-1` - там будет столько элементов, сколько останется"
      ],
      "metadata": {
        "id": "2c6yT3VgyBec"
      }
    },
    {
      "cell_type": "code",
      "source": [
        "a.shape = -1, 2\n",
        "a"
      ],
      "metadata": {
        "colab": {
          "base_uri": "https://localhost:8080/"
        },
        "id": "3VZHz8JOx6ZS",
        "outputId": "d33d642e-c06a-4cff-c117-a1fb70dcf59b"
      },
      "execution_count": 11,
      "outputs": [
        {
          "output_type": "execute_result",
          "data": {
            "text/plain": [
              "array([[0, 1],\n",
              "       [2, 3],\n",
              "       [4, 5],\n",
              "       [6, 7],\n",
              "       [8, 9]])"
            ]
          },
          "metadata": {},
          "execution_count": 11
        }
      ]
    },
    {
      "cell_type": "code",
      "source": [
        "b.reshape(-1,1)\n",
        "b"
      ],
      "metadata": {
        "colab": {
          "base_uri": "https://localhost:8080/"
        },
        "id": "3ol7FA6Bx--U",
        "outputId": "882d62fd-3e6b-4564-8704-89cb9fc41771"
      },
      "execution_count": 12,
      "outputs": [
        {
          "output_type": "execute_result",
          "data": {
            "text/plain": [
              "array([0, 1, 2, 3, 4, 5, 6, 7, 8, 9])"
            ]
          },
          "metadata": {},
          "execution_count": 12
        }
      ]
    },
    {
      "cell_type": "markdown",
      "source": [
        "для преобразования матрицы в вектор - метод `ravel`\n"
      ],
      "metadata": {
        "id": "5hcpefDeylrn"
      }
    },
    {
      "cell_type": "code",
      "source": [
        "a.ravel()#матрица вытягивается в одну строку"
      ],
      "metadata": {
        "colab": {
          "base_uri": "https://localhost:8080/"
        },
        "id": "FZ-NHqQcyWap",
        "outputId": "996143e2-d90f-42af-9631-dffb58766c60"
      },
      "execution_count": 13,
      "outputs": [
        {
          "output_type": "execute_result",
          "data": {
            "text/plain": [
              "array([0, 1, 2, 3, 4, 5, 6, 7, 8, 9])"
            ]
          },
          "metadata": {},
          "execution_count": 13
        }
      ]
    },
    {
      "cell_type": "markdown",
      "source": [
        "или вытянуть через shape"
      ],
      "metadata": {
        "id": "10vc0BCwzBaq"
      }
    },
    {
      "cell_type": "code",
      "source": [
        "a.shape = -1\n",
        "a"
      ],
      "metadata": {
        "colab": {
          "base_uri": "https://localhost:8080/"
        },
        "id": "tddzhLPSyyZE",
        "outputId": "9572c28a-05a9-4cee-f13d-00aa37f99423"
      },
      "execution_count": 15,
      "outputs": [
        {
          "output_type": "execute_result",
          "data": {
            "text/plain": [
              "array([0, 1, 2, 3, 4, 5, 6, 7, 8, 9])"
            ]
          },
          "metadata": {},
          "execution_count": 15
        }
      ]
    },
    {
      "cell_type": "markdown",
      "source": [
        "метод resize - изменяет представление текущего массива"
      ],
      "metadata": {
        "id": "o91FvqLCzHgq"
      }
    },
    {
      "cell_type": "code",
      "source": [
        "a.resize(2,5)\n",
        "a"
      ],
      "metadata": {
        "colab": {
          "base_uri": "https://localhost:8080/"
        },
        "id": "hOiinIs_zFFj",
        "outputId": "7f93a1b4-a64f-413e-a326-3a6f21b38eed"
      },
      "execution_count": 17,
      "outputs": [
        {
          "output_type": "execute_result",
          "data": {
            "text/plain": [
              "array([[0, 1, 2, 3, 4],\n",
              "       [5, 6, 7, 8, 9]])"
            ]
          },
          "metadata": {},
          "execution_count": 17
        }
      ]
    },
    {
      "cell_type": "code",
      "source": [
        "a.resize(3,3, refcheck=False)#позволяет менять форму и уменьшать/увеличивать число элементов\n",
        "a"
      ],
      "metadata": {
        "colab": {
          "base_uri": "https://localhost:8080/"
        },
        "id": "PVEsz9XRzTvQ",
        "outputId": "f97aa5f2-e4bb-4ae0-ce29-ae13053167f9"
      },
      "execution_count": 19,
      "outputs": [
        {
          "output_type": "execute_result",
          "data": {
            "text/plain": [
              "array([[0, 1, 2],\n",
              "       [3, 4, 5],\n",
              "       [6, 7, 8]])"
            ]
          },
          "metadata": {},
          "execution_count": 19
        }
      ]
    },
    {
      "cell_type": "code",
      "source": [
        "a.resize(4,5, refcheck=False)\n",
        "a"
      ],
      "metadata": {
        "colab": {
          "base_uri": "https://localhost:8080/"
        },
        "id": "e4CwPDIJzgV3",
        "outputId": "cebd8348-d473-4f77-c410-f7376a1eb6af"
      },
      "execution_count": 21,
      "outputs": [
        {
          "output_type": "execute_result",
          "data": {
            "text/plain": [
              "array([[0, 1, 2, 3, 4],\n",
              "       [5, 6, 7, 8, 0],\n",
              "       [0, 0, 0, 0, 0],\n",
              "       [0, 0, 0, 0, 0]])"
            ]
          },
          "metadata": {},
          "execution_count": 21
        }
      ]
    },
    {
      "cell_type": "markdown",
      "source": [
        "Транспонирование матриц"
      ],
      "metadata": {
        "id": "jSFGeuKGz0fM"
      }
    },
    {
      "cell_type": "code",
      "source": [
        "o = np.tril([1,2,3,4])\n",
        "o"
      ],
      "metadata": {
        "colab": {
          "base_uri": "https://localhost:8080/"
        },
        "id": "qg-ELZTIzwcG",
        "outputId": "c258a011-427e-467c-a13c-ce9d17f66484"
      },
      "execution_count": 36,
      "outputs": [
        {
          "output_type": "execute_result",
          "data": {
            "text/plain": [
              "array([[1, 0, 0, 0],\n",
              "       [1, 2, 0, 0],\n",
              "       [1, 2, 3, 0],\n",
              "       [1, 2, 3, 4]])"
            ]
          },
          "metadata": {},
          "execution_count": 36
        }
      ]
    },
    {
      "cell_type": "code",
      "source": [
        "o.T\n"
      ],
      "metadata": {
        "colab": {
          "base_uri": "https://localhost:8080/"
        },
        "id": "B8sU9hugz5b0",
        "outputId": "bf6fb2b2-3273-4fba-9f0d-b70053ed9949"
      },
      "execution_count": 37,
      "outputs": [
        {
          "output_type": "execute_result",
          "data": {
            "text/plain": [
              "array([[1, 1, 1, 1],\n",
              "       [0, 2, 2, 2],\n",
              "       [0, 0, 3, 3],\n",
              "       [0, 0, 0, 4]])"
            ]
          },
          "metadata": {},
          "execution_count": 37
        }
      ]
    },
    {
      "cell_type": "code",
      "source": [
        "x = np.arange(9)\n",
        "x.T\n",
        "#ничего не изменилось, тк одна строка"
      ],
      "metadata": {
        "colab": {
          "base_uri": "https://localhost:8080/"
        },
        "id": "tWZFh9nQz5Yc",
        "outputId": "995b8389-64fa-45a4-b981-a8616bf03fd2"
      },
      "execution_count": 38,
      "outputs": [
        {
          "output_type": "execute_result",
          "data": {
            "text/plain": [
              "array([0, 1, 2, 3, 4, 5, 6, 7, 8])"
            ]
          },
          "metadata": {},
          "execution_count": 38
        }
      ]
    },
    {
      "cell_type": "code",
      "source": [
        "#чтобы можно было транспонировать - нужно добавить ещё одну ось\n",
        "x.shape = 1, -1\n",
        "x.T"
      ],
      "metadata": {
        "colab": {
          "base_uri": "https://localhost:8080/"
        },
        "id": "cOAzftAV01Z9",
        "outputId": "b1a7e7f8-5a0f-49e8-9034-3b48baa69487"
      },
      "execution_count": 42,
      "outputs": [
        {
          "output_type": "execute_result",
          "data": {
            "text/plain": [
              "array([[0],\n",
              "       [1],\n",
              "       [2],\n",
              "       [3],\n",
              "       [4],\n",
              "       [5],\n",
              "       [6],\n",
              "       [7],\n",
              "       [8]])"
            ]
          },
          "metadata": {},
          "execution_count": 42
        }
      ]
    },
    {
      "cell_type": "markdown",
      "source": [
        "![image.png](data:image/png;base64,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)"
      ],
      "metadata": {
        "id": "2N8TQL7q1alB"
      }
    },
    {
      "cell_type": "code",
      "source": [
        "x = np.arange(32).reshape(8, 2, 2)"
      ],
      "metadata": {
        "id": "ajYaF7CZ1JOB"
      },
      "execution_count": 3,
      "outputs": []
    },
    {
      "cell_type": "markdown",
      "source": [
        "как добавить новую ось, напр, axis0"
      ],
      "metadata": {
        "id": "7lLQnOj41-8L"
      }
    },
    {
      "cell_type": "code",
      "source": [
        "newx = np.expand_dims(x, axis=0)\n",
        "newx.shape"
      ],
      "metadata": {
        "colab": {
          "base_uri": "https://localhost:8080/"
        },
        "id": "KxJfhV0Z2GtT",
        "outputId": "6ee45fd1-52ab-4cf0-bc05-3d077824c042"
      },
      "execution_count": 4,
      "outputs": [
        {
          "output_type": "execute_result",
          "data": {
            "text/plain": [
              "(1, 8, 2, 2)"
            ]
          },
          "metadata": {},
          "execution_count": 4
        }
      ]
    },
    {
      "cell_type": "markdown",
      "source": [
        "добавление элемента по индексу"
      ],
      "metadata": {
        "id": "9YvW3a-9k3c1"
      }
    },
    {
      "cell_type": "code",
      "source": [
        "a = np.append(newx, newx, axis=0)#добовляем такой же элемент к первой оси\n",
        "a.shape\n"
      ],
      "metadata": {
        "colab": {
          "base_uri": "https://localhost:8080/"
        },
        "id": "SicAb6bsFp34",
        "outputId": "47a352b0-a1cd-4699-b3d9-2b9540765973"
      },
      "execution_count": 5,
      "outputs": [
        {
          "output_type": "execute_result",
          "data": {
            "text/plain": [
              "(2, 8, 2, 2)"
            ]
          },
          "metadata": {},
          "execution_count": 5
        }
      ]
    },
    {
      "cell_type": "markdown",
      "source": [
        "удаление элемента по индексу"
      ],
      "metadata": {
        "id": "tIK_bgojk6PC"
      }
    },
    {
      "cell_type": "code",
      "source": [
        "b = np.delete(a, 0, axis=0)\n",
        "b.shape"
      ],
      "metadata": {
        "colab": {
          "base_uri": "https://localhost:8080/"
        },
        "id": "x_cePiWukeGI",
        "outputId": "3bfad91c-bb5f-473d-f342-087a9de45729"
      },
      "execution_count": 6,
      "outputs": [
        {
          "output_type": "execute_result",
          "data": {
            "text/plain": [
              "(1, 8, 2, 2)"
            ]
          },
          "metadata": {},
          "execution_count": 6
        }
      ]
    },
    {
      "cell_type": "code",
      "source": [
        "b = np.expand_dims(a, axis=-1)#-1 - добавление оси в конец\n",
        "b.shape"
      ],
      "metadata": {
        "colab": {
          "base_uri": "https://localhost:8080/"
        },
        "id": "KygdrnNuk2Br",
        "outputId": "b65385bb-2bc5-428e-a74d-2e1846022677"
      },
      "execution_count": 9,
      "outputs": [
        {
          "output_type": "execute_result",
          "data": {
            "text/plain": [
              "(2, 8, 2, 2, 1)"
            ]
          },
          "metadata": {},
          "execution_count": 9
        }
      ]
    },
    {
      "cell_type": "markdown",
      "source": [
        "Удаление осей в которых 1 элемент\n"
      ],
      "metadata": {
        "id": "78dV7kVil3xk"
      }
    },
    {
      "cell_type": "code",
      "source": [
        "c = np.squeeze(b)\n",
        "c.shape"
      ],
      "metadata": {
        "colab": {
          "base_uri": "https://localhost:8080/"
        },
        "id": "C_qM__rglLD_",
        "outputId": "dbbe5dd5-fbec-405f-c596-9a50499b3038"
      },
      "execution_count": 12,
      "outputs": [
        {
          "output_type": "execute_result",
          "data": {
            "text/plain": [
              "(2, 8, 2, 2)"
            ]
          },
          "metadata": {},
          "execution_count": 12
        }
      ]
    },
    {
      "cell_type": "markdown",
      "source": [
        "Удалить строго определённую ось \n",
        "\n",
        "```\n",
        "np.squeeze(b, axis = 0)\n",
        "```\n",
        "\n"
      ],
      "metadata": {
        "id": "iRZEnyzamEz8"
      }
    },
    {
      "cell_type": "markdown",
      "source": [
        "Добавление новых осей через объект newaxis"
      ],
      "metadata": {
        "id": "fhbVRWj8mhcP"
      }
    },
    {
      "cell_type": "code",
      "source": [
        "a = np.arange(12)\n",
        "a"
      ],
      "metadata": {
        "colab": {
          "base_uri": "https://localhost:8080/"
        },
        "id": "1n1tyUVvmh6t",
        "outputId": "4f5b84fe-280d-42f9-f0e1-5eb75e55ec19"
      },
      "execution_count": 16,
      "outputs": [
        {
          "output_type": "execute_result",
          "data": {
            "text/plain": [
              "array([ 0,  1,  2,  3,  4,  5,  6,  7,  8,  9, 10, 11])"
            ]
          },
          "metadata": {},
          "execution_count": 16
        }
      ]
    },
    {
      "cell_type": "code",
      "source": [
        "b = a[np.newaxis, :]\n",
        "b.shape"
      ],
      "metadata": {
        "colab": {
          "base_uri": "https://localhost:8080/"
        },
        "id": "2L_ymmMImho9",
        "outputId": "d303f21f-68bd-4a93-ae09-00aae6b2eb19"
      },
      "execution_count": 17,
      "outputs": [
        {
          "output_type": "execute_result",
          "data": {
            "text/plain": [
              "(1, 12)"
            ]
          },
          "metadata": {},
          "execution_count": 17
        }
      ]
    },
    {
      "cell_type": "code",
      "source": [
        "b"
      ],
      "metadata": {
        "colab": {
          "base_uri": "https://localhost:8080/"
        },
        "id": "abrw2_p0nLeL",
        "outputId": "185385a4-594c-48ba-841d-1590fd809672"
      },
      "execution_count": 18,
      "outputs": [
        {
          "output_type": "execute_result",
          "data": {
            "text/plain": [
              "array([[ 0,  1,  2,  3,  4,  5,  6,  7,  8,  9, 10, 11]])"
            ]
          },
          "metadata": {},
          "execution_count": 18
        }
      ]
    },
    {
      "cell_type": "code",
      "source": [
        "c = a[:, np.newaxis]\n",
        "c, c.shape"
      ],
      "metadata": {
        "colab": {
          "base_uri": "https://localhost:8080/"
        },
        "id": "52zaCO20nMcP",
        "outputId": "0172926e-b1ce-4576-d5cd-7d7ad9633c99"
      },
      "execution_count": 21,
      "outputs": [
        {
          "output_type": "execute_result",
          "data": {
            "text/plain": [
              "(array([[ 0],\n",
              "        [ 1],\n",
              "        [ 2],\n",
              "        [ 3],\n",
              "        [ 4],\n",
              "        [ 5],\n",
              "        [ 6],\n",
              "        [ 7],\n",
              "        [ 8],\n",
              "        [ 9],\n",
              "        [10],\n",
              "        [11]]), (12, 1))"
            ]
          },
          "metadata": {},
          "execution_count": 21
        }
      ]
    },
    {
      "cell_type": "code",
      "source": [
        "c = a[np.newaxis, :, np.newaxis, np.newaxis]\n",
        "c.shape, c"
      ],
      "metadata": {
        "colab": {
          "base_uri": "https://localhost:8080/"
        },
        "id": "BpiOchcknU-0",
        "outputId": "3b3e3a1d-daac-4645-811b-6b9b5e730e44"
      },
      "execution_count": 23,
      "outputs": [
        {
          "output_type": "execute_result",
          "data": {
            "text/plain": [
              "((1, 12, 1, 1), array([[[[ 0]],\n",
              " \n",
              "         [[ 1]],\n",
              " \n",
              "         [[ 2]],\n",
              " \n",
              "         [[ 3]],\n",
              " \n",
              "         [[ 4]],\n",
              " \n",
              "         [[ 5]],\n",
              " \n",
              "         [[ 6]],\n",
              " \n",
              "         [[ 7]],\n",
              " \n",
              "         [[ 8]],\n",
              " \n",
              "         [[ 9]],\n",
              " \n",
              "         [[10]],\n",
              " \n",
              "         [[11]]]]))"
            ]
          },
          "metadata": {},
          "execution_count": 23
        }
      ]
    },
    {
      "cell_type": "markdown",
      "source": [
        "##6 Объединение и разделение массивов"
      ],
      "metadata": {
        "id": "aTpyuIajtSPz"
      }
    },
    {
      "cell_type": "code",
      "source": [
        "a = np.array([[1,2], [3,4]])\n",
        "b = np.array([[5,6], [7,8]])"
      ],
      "metadata": {
        "id": "uPhN4ibrtbUi"
      },
      "execution_count": 24,
      "outputs": []
    },
    {
      "cell_type": "markdown",
      "source": [
        "![image.png](data:image/png;base64,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)"
      ],
      "metadata": {
        "id": "JjUhEOxetzNu"
      }
    },
    {
      "cell_type": "code",
      "source": [
        "np.hstack([a,b])#axis 1"
      ],
      "metadata": {
        "colab": {
          "base_uri": "https://localhost:8080/"
        },
        "id": "KMwdAl3etZ7C",
        "outputId": "1064268e-3c33-4058-abb3-a4b370666680"
      },
      "execution_count": 25,
      "outputs": [
        {
          "output_type": "execute_result",
          "data": {
            "text/plain": [
              "array([[1, 2, 5, 6],\n",
              "       [3, 4, 7, 8]])"
            ]
          },
          "metadata": {},
          "execution_count": 25
        }
      ]
    },
    {
      "cell_type": "code",
      "source": [
        "np.vstack([a,b, a])#axis 0"
      ],
      "metadata": {
        "colab": {
          "base_uri": "https://localhost:8080/"
        },
        "id": "VHZMDr06nw5i",
        "outputId": "c70ee464-1d3c-4cd7-86f2-00b174243431"
      },
      "execution_count": 27,
      "outputs": [
        {
          "output_type": "execute_result",
          "data": {
            "text/plain": [
              "array([[1, 2],\n",
              "       [3, 4],\n",
              "       [5, 6],\n",
              "       [7, 8],\n",
              "       [1, 2],\n",
              "       [3, 4]])"
            ]
          },
          "metadata": {},
          "execution_count": 27
        }
      ]
    },
    {
      "cell_type": "code",
      "source": [
        "a = np.fromstring('1_2_3_4', sep='_', dtype='int8')\n",
        "b = np.fromstring('5*6*7*8', sep='*', dtype='int8')\n",
        "a,b"
      ],
      "metadata": {
        "colab": {
          "base_uri": "https://localhost:8080/"
        },
        "id": "M4g69z3dt_Cg",
        "outputId": "bb397774-5c83-4698-95ed-860374dc383f"
      },
      "execution_count": 32,
      "outputs": [
        {
          "output_type": "execute_result",
          "data": {
            "text/plain": [
              "(array([1, 2, 3, 4], dtype=int8), array([5, 6, 7, 8], dtype=int8))"
            ]
          },
          "metadata": {},
          "execution_count": 32
        }
      ]
    },
    {
      "cell_type": "code",
      "source": [
        "np.hstack([a,b])"
      ],
      "metadata": {
        "colab": {
          "base_uri": "https://localhost:8080/"
        },
        "id": "_Qfvkts5ugme",
        "outputId": "f34bcd3e-9c9b-408e-927c-40bf0909e10e"
      },
      "execution_count": 33,
      "outputs": [
        {
          "output_type": "execute_result",
          "data": {
            "text/plain": [
              "array([1, 2, 3, 4, 5, 6, 7, 8], dtype=int8)"
            ]
          },
          "metadata": {},
          "execution_count": 33
        }
      ]
    },
    {
      "cell_type": "code",
      "source": [
        "np.column_stack([a,b])#представление в виде ряда колонок"
      ],
      "metadata": {
        "colab": {
          "base_uri": "https://localhost:8080/"
        },
        "id": "6_lGk-MXunS3",
        "outputId": "2ad2b500-8dc9-42a7-9161-f9421614733b"
      },
      "execution_count": 35,
      "outputs": [
        {
          "output_type": "execute_result",
          "data": {
            "text/plain": [
              "array([[1, 5],\n",
              "       [2, 6],\n",
              "       [3, 7],\n",
              "       [4, 8]], dtype=int8)"
            ]
          },
          "metadata": {},
          "execution_count": 35
        }
      ]
    },
    {
      "cell_type": "code",
      "source": [
        "np.row_stack([a,b])#представление в виде ряда строк"
      ],
      "metadata": {
        "colab": {
          "base_uri": "https://localhost:8080/"
        },
        "id": "qck_l3fPwRuB",
        "outputId": "9fa666d4-4d23-4d8a-8b3d-ae443098f61a"
      },
      "execution_count": 37,
      "outputs": [
        {
          "output_type": "execute_result",
          "data": {
            "text/plain": [
              "array([[1, 2, 3, 4],\n",
              "       [5, 6, 7, 8]], dtype=int8)"
            ]
          },
          "metadata": {},
          "execution_count": 37
        }
      ]
    },
    {
      "cell_type": "markdown",
      "source": [
        "а как делать объединение по осям >1"
      ],
      "metadata": {
        "id": "6kFetJwWwv82"
      }
    },
    {
      "cell_type": "code",
      "source": [
        "a = np.arange(12)\n",
        "b = np.arange(12, 24)\n",
        "b.shape"
      ],
      "metadata": {
        "colab": {
          "base_uri": "https://localhost:8080/"
        },
        "id": "Bx8nXZVtwqUG",
        "outputId": "62592035-d7fd-465e-a120-7794add4466b"
      },
      "execution_count": 47,
      "outputs": [
        {
          "output_type": "execute_result",
          "data": {
            "text/plain": [
              "(12,)"
            ]
          },
          "metadata": {},
          "execution_count": 47
        }
      ]
    },
    {
      "cell_type": "code",
      "source": [
        "a.resize(3,2,2)\n",
        "b.resize(3,2,2)"
      ],
      "metadata": {
        "id": "Doy4hGxAw7hI"
      },
      "execution_count": 48,
      "outputs": []
    },
    {
      "cell_type": "code",
      "source": [
        "c = np.concatenate([a,b], axis=2)\n",
        "c.shape"
      ],
      "metadata": {
        "colab": {
          "base_uri": "https://localhost:8080/"
        },
        "id": "K4IiE1ILw7eA",
        "outputId": "2608ec19-714a-4195-d6eb-19418792f1bb"
      },
      "execution_count": 49,
      "outputs": [
        {
          "output_type": "execute_result",
          "data": {
            "text/plain": [
              "(3, 2, 4)"
            ]
          },
          "metadata": {},
          "execution_count": 49
        }
      ]
    },
    {
      "cell_type": "markdown",
      "source": [
        "объединение вложенных массивов по axis0"
      ],
      "metadata": {
        "id": "18n-bTma7rFM"
      }
    },
    {
      "cell_type": "code",
      "source": [
        "np.r_[[1,2,3], 4, 5]"
      ],
      "metadata": {
        "colab": {
          "base_uri": "https://localhost:8080/"
        },
        "id": "YjAmn7Lt7cCD",
        "outputId": "03a578f7-18e1-4474-f9f1-ecde2fd6d9da"
      },
      "execution_count": 50,
      "outputs": [
        {
          "output_type": "execute_result",
          "data": {
            "text/plain": [
              "array([1, 2, 3, 4, 5])"
            ]
          },
          "metadata": {},
          "execution_count": 50
        }
      ]
    },
    {
      "cell_type": "code",
      "source": [
        "np.r_[1:9, 10, 4, 5]"
      ],
      "metadata": {
        "colab": {
          "base_uri": "https://localhost:8080/"
        },
        "id": "VwBQ0Hum7ocM",
        "outputId": "6ccab33b-5262-4033-f6c0-b45e7cc9fc9f"
      },
      "execution_count": 52,
      "outputs": [
        {
          "output_type": "execute_result",
          "data": {
            "text/plain": [
              "array([ 1,  2,  3,  4,  5,  6,  7,  8, 10,  4,  5])"
            ]
          },
          "metadata": {},
          "execution_count": 52
        }
      ]
    },
    {
      "cell_type": "code",
      "source": [
        "np.r_[[[1,2],[2,3]], [[4,5]]] "
      ],
      "metadata": {
        "colab": {
          "base_uri": "https://localhost:8080/"
        },
        "id": "WRpCKnRv72I8",
        "outputId": "87781851-6acc-47c6-bf8a-722e68ac3884"
      },
      "execution_count": 54,
      "outputs": [
        {
          "output_type": "execute_result",
          "data": {
            "text/plain": [
              "array([[1, 2],\n",
              "       [2, 3],\n",
              "       [4, 5]])"
            ]
          },
          "metadata": {},
          "execution_count": 54
        }
      ]
    },
    {
      "cell_type": "code",
      "source": [
        "np.c_[1:5]"
      ],
      "metadata": {
        "colab": {
          "base_uri": "https://localhost:8080/"
        },
        "id": "Tu--E6328LOC",
        "outputId": "7d6d73f8-e5a3-4509-b031-cff2ddfa17f1"
      },
      "execution_count": 58,
      "outputs": [
        {
          "output_type": "execute_result",
          "data": {
            "text/plain": [
              "array([[1],\n",
              "       [2],\n",
              "       [3],\n",
              "       [4]])"
            ]
          },
          "metadata": {},
          "execution_count": 58
        }
      ]
    },
    {
      "cell_type": "code",
      "source": [
        "np.c_[[1,2,3], [4, 5, 6]]\n"
      ],
      "metadata": {
        "colab": {
          "base_uri": "https://localhost:8080/"
        },
        "id": "c_7V1YC58fhN",
        "outputId": "5e30260e-0e34-4fe1-ef35-856e495b8217"
      },
      "execution_count": 59,
      "outputs": [
        {
          "output_type": "execute_result",
          "data": {
            "text/plain": [
              "array([[1, 4],\n",
              "       [2, 5],\n",
              "       [3, 6]])"
            ]
          },
          "metadata": {},
          "execution_count": 59
        }
      ]
    },
    {
      "cell_type": "code",
      "source": [
        "np.c_[[[1,2],[2,3]], [[4],[5]]] "
      ],
      "metadata": {
        "colab": {
          "base_uri": "https://localhost:8080/"
        },
        "id": "5lj9mrHU88HI",
        "outputId": "2e2278a9-65a2-491d-93ec-7daab6d4610e"
      },
      "execution_count": 60,
      "outputs": [
        {
          "output_type": "execute_result",
          "data": {
            "text/plain": [
              "array([[1, 2, 4],\n",
              "       [2, 3, 5]])"
            ]
          },
          "metadata": {},
          "execution_count": 60
        }
      ]
    },
    {
      "cell_type": "markdown",
      "source": [
        "Разделение массивов"
      ],
      "metadata": {
        "id": "11snUjeE9R26"
      }
    },
    {
      "cell_type": "markdown",
      "source": [
        "по горизонтали - hsplit"
      ],
      "metadata": {
        "id": "X5h6rAQG94xL"
      }
    },
    {
      "cell_type": "code",
      "source": [
        "a = np.arange(10)\n",
        "# разделение по горизонтали\n",
        "np.hsplit(a, 2)\n",
        "#np.hsplit(a, 3) - будет ошибка, тк нацело 10 элементов по 3 не поделить"
      ],
      "metadata": {
        "colab": {
          "base_uri": "https://localhost:8080/"
        },
        "id": "-RIX2ziF9LaM",
        "outputId": "fcf049e2-825b-4386-bd2a-0fbcd4c341fe"
      },
      "execution_count": 61,
      "outputs": [
        {
          "output_type": "execute_result",
          "data": {
            "text/plain": [
              "[array([0, 1, 2, 3, 4]), array([5, 6, 7, 8, 9])]"
            ]
          },
          "metadata": {},
          "execution_count": 61
        }
      ]
    },
    {
      "cell_type": "code",
      "source": [
        "np.hsplit(a, 5)"
      ],
      "metadata": {
        "colab": {
          "base_uri": "https://localhost:8080/"
        },
        "id": "9v2MLfp19bG8",
        "outputId": "48225b6f-7c1a-4372-a3ff-dc6565a8dc69"
      },
      "execution_count": 62,
      "outputs": [
        {
          "output_type": "execute_result",
          "data": {
            "text/plain": [
              "[array([0, 1]), array([2, 3]), array([4, 5]), array([6, 7]), array([8, 9])]"
            ]
          },
          "metadata": {},
          "execution_count": 62
        }
      ]
    },
    {
      "cell_type": "markdown",
      "source": [
        "по вертикали - vsplit"
      ],
      "metadata": {
        "id": "fPqr5MXT-DNd"
      }
    },
    {
      "cell_type": "code",
      "source": [
        "a.shape = 10, -1\n",
        "a"
      ],
      "metadata": {
        "colab": {
          "base_uri": "https://localhost:8080/"
        },
        "id": "q5FmMuL69u8Y",
        "outputId": "bc0049ba-a97d-45a6-cf64-bd0a9350fb0c"
      },
      "execution_count": 63,
      "outputs": [
        {
          "output_type": "execute_result",
          "data": {
            "text/plain": [
              "array([[0],\n",
              "       [1],\n",
              "       [2],\n",
              "       [3],\n",
              "       [4],\n",
              "       [5],\n",
              "       [6],\n",
              "       [7],\n",
              "       [8],\n",
              "       [9]])"
            ]
          },
          "metadata": {},
          "execution_count": 63
        }
      ]
    },
    {
      "cell_type": "code",
      "source": [
        "np.vsplit(a, 2)"
      ],
      "metadata": {
        "colab": {
          "base_uri": "https://localhost:8080/"
        },
        "id": "aEGGV_zK93oV",
        "outputId": "aa0515b1-80d7-442c-ee60-0a82642c3b1d"
      },
      "execution_count": 65,
      "outputs": [
        {
          "output_type": "execute_result",
          "data": {
            "text/plain": [
              "[array([[0],\n",
              "        [1],\n",
              "        [2],\n",
              "        [3],\n",
              "        [4]]), array([[5],\n",
              "        [6],\n",
              "        [7],\n",
              "        [8],\n",
              "        [9]])]"
            ]
          },
          "metadata": {},
          "execution_count": 65
        }
      ]
    },
    {
      "cell_type": "markdown",
      "source": [
        "Эти функции можно использовать с многомерными массивами"
      ],
      "metadata": {
        "id": "Rc0pYEIa-RbL"
      }
    },
    {
      "cell_type": "code",
      "source": [
        "a = np.arange(12)\n",
        "a.resize(2, 6)"
      ],
      "metadata": {
        "id": "ue7KohVM-KeT"
      },
      "execution_count": 66,
      "outputs": []
    },
    {
      "cell_type": "code",
      "source": [
        "a"
      ],
      "metadata": {
        "colab": {
          "base_uri": "https://localhost:8080/"
        },
        "id": "Tr7MzYbZ-fnK",
        "outputId": "9690b16e-ac18-4ce4-e48b-73de5955b861"
      },
      "execution_count": 67,
      "outputs": [
        {
          "output_type": "execute_result",
          "data": {
            "text/plain": [
              "array([[ 0,  1,  2,  3,  4,  5],\n",
              "       [ 6,  7,  8,  9, 10, 11]])"
            ]
          },
          "metadata": {},
          "execution_count": 67
        }
      ]
    },
    {
      "cell_type": "code",
      "source": [
        "np.hsplit(a, 2)"
      ],
      "metadata": {
        "colab": {
          "base_uri": "https://localhost:8080/"
        },
        "id": "IOHJImiL-grf",
        "outputId": "6fe603da-06b8-4563-c2a6-781339b651df"
      },
      "execution_count": 69,
      "outputs": [
        {
          "output_type": "execute_result",
          "data": {
            "text/plain": [
              "[array([[0, 1, 2],\n",
              "        [6, 7, 8]]), array([[ 3,  4,  5],\n",
              "        [ 9, 10, 11]])]"
            ]
          },
          "metadata": {},
          "execution_count": 69
        }
      ]
    },
    {
      "cell_type": "markdown",
      "source": [
        "![image.png](data:image/png;base64,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)"
      ],
      "metadata": {
        "id": "m1GtO2Re-3F8"
      }
    },
    {
      "cell_type": "markdown",
      "source": [
        "Разбивка для произвольной оси"
      ],
      "metadata": {
        "id": "tgzo6fV2-5c4"
      }
    },
    {
      "cell_type": "code",
      "source": [
        "a = np.arange(18)\n",
        "a.shape = 3, 3, 2\n",
        "a"
      ],
      "metadata": {
        "colab": {
          "base_uri": "https://localhost:8080/"
        },
        "id": "AKM41Sex-lwD",
        "outputId": "b72c40bd-5abf-4e64-b10b-353a2f2640b5"
      },
      "execution_count": 70,
      "outputs": [
        {
          "output_type": "execute_result",
          "data": {
            "text/plain": [
              "array([[[ 0,  1],\n",
              "        [ 2,  3],\n",
              "        [ 4,  5]],\n",
              "\n",
              "       [[ 6,  7],\n",
              "        [ 8,  9],\n",
              "        [10, 11]],\n",
              "\n",
              "       [[12, 13],\n",
              "        [14, 15],\n",
              "        [16, 17]]])"
            ]
          },
          "metadata": {},
          "execution_count": 70
        }
      ]
    },
    {
      "cell_type": "code",
      "source": [
        "np.array_split(a, 2, axis=2)"
      ],
      "metadata": {
        "colab": {
          "base_uri": "https://localhost:8080/"
        },
        "id": "OPQ434Lz_o_d",
        "outputId": "1481479c-4155-4a93-b2f6-16ea0d75947a"
      },
      "execution_count": 71,
      "outputs": [
        {
          "output_type": "execute_result",
          "data": {
            "text/plain": [
              "[array([[[ 0],\n",
              "         [ 2],\n",
              "         [ 4]],\n",
              " \n",
              "        [[ 6],\n",
              "         [ 8],\n",
              "         [10]],\n",
              " \n",
              "        [[12],\n",
              "         [14],\n",
              "         [16]]]), array([[[ 1],\n",
              "         [ 3],\n",
              "         [ 5]],\n",
              " \n",
              "        [[ 7],\n",
              "         [ 9],\n",
              "         [11]],\n",
              " \n",
              "        [[13],\n",
              "         [15],\n",
              "         [17]]])]"
            ]
          },
          "metadata": {},
          "execution_count": 71
        }
      ]
    },
    {
      "cell_type": "code",
      "source": [
        "np.array_split(a, 2, axis=0)"
      ],
      "metadata": {
        "colab": {
          "base_uri": "https://localhost:8080/"
        },
        "id": "pgCCWMum_2Fx",
        "outputId": "9a45819a-8815-4f79-b4b8-4c0303ce6fe3"
      },
      "execution_count": 72,
      "outputs": [
        {
          "output_type": "execute_result",
          "data": {
            "text/plain": [
              "[array([[[ 0,  1],\n",
              "         [ 2,  3],\n",
              "         [ 4,  5]],\n",
              " \n",
              "        [[ 6,  7],\n",
              "         [ 8,  9],\n",
              "         [10, 11]]]), array([[[12, 13],\n",
              "         [14, 15],\n",
              "         [16, 17]]])]"
            ]
          },
          "metadata": {},
          "execution_count": 72
        }
      ]
    },
    {
      "cell_type": "code",
      "source": [],
      "metadata": {
        "id": "9Wj9O9SM_5xf"
      },
      "execution_count": null,
      "outputs": []
    }
  ]
}